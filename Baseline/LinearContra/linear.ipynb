{
 "cells": [
  {
   "cell_type": "code",
   "execution_count": 2,
   "metadata": {},
   "outputs": [],
   "source": [
    "import umap.aligned_umap\n",
    "import numpy as np\n",
    "import matplotlib.pyplot as plt\n",
    "import torch\n",
    "import os\n",
    "path1 = \"/home/yifan/dataset/clean/pairflip/cifar10/0\"\n",
    "path2 = \"/home/yifan/Exp/Dropout/0.3/experiment1\""
   ]
  },
  {
   "cell_type": "code",
   "execution_count": 3,
   "metadata": {},
   "outputs": [],
   "source": [
    "def getData(path,epoch):\n",
    "    ##### get representation\n",
    "    X_train = np.load(os.path.join(path,\"Model\",\"Epoch_{}\".format(epoch),\"train_data.npy\"))\n",
    "    X_test = np.load(os.path.join(path,\"Model\",\"Epoch_{}\".format(epoch),\"test_data.npy\"))\n",
    "    \n",
    "    #### get label\n",
    "    training_label_loc =  os.path.join(path, \"Training_data\", \"training_dataset_label.pth\")\n",
    "    y_train = torch.load(training_label_loc, map_location=\"cpu\")\n",
    "    y_train = y_train.numpy()\n",
    "    testing_label_loc =  os.path.join(path, \"Testing_data\", \"testing_dataset_label.pth\") \n",
    "    y_test = torch.load(testing_label_loc, map_location=\"cpu\")\n",
    "    y_test = y_test.numpy()\n",
    "\n",
    "    return X_train, X_test, y_train, y_test\n"
   ]
  },
  {
   "cell_type": "code",
   "execution_count": 4,
   "metadata": {},
   "outputs": [],
   "source": [
    "X_train1, X_test1, y_train1, y_test1 = getData(path1,150)\n",
    "X_train2, X_test2, y_train2, y_test2 = getData(path2,150)"
   ]
  },
  {
   "cell_type": "code",
   "execution_count": 5,
   "metadata": {},
   "outputs": [],
   "source": [
    "X_train2 = X_train2.reshape(X_train2.shape[0],X_train2.shape[1])"
   ]
  },
  {
   "cell_type": "code",
   "execution_count": 6,
   "metadata": {},
   "outputs": [],
   "source": [
    "import numpy as np\n",
    "from scipy.linalg import svd\n",
    "\n",
    "# 假设 data1 和 data2 已经给出\n",
    "# 例如：\n",
    "# data1 = np.random.rand(50000, 512)\n",
    "# data2 = np.random.rand(50000, 512)\n",
    "\n",
    "def orthogonal_mapping(data1, data2):\n",
    "    \"\"\"\n",
    "    使用Orthogonal Mapping方法将data2映射到data1空间。\n",
    "    \n",
    "    :param data1: numpy array, shape (n_samples, n_features)\n",
    "    :param data2: numpy array, shape (n_samples, n_features)\n",
    "    :return: data2_mapped: numpy array, 映射后的data2\n",
    "    \"\"\"\n",
    "    # 步骤1: 中心化数据\n",
    "    data1_centered = data1 - np.mean(data1, axis=0)\n",
    "    data2_centered = data2 - np.mean(data2, axis=0)\n",
    "\n",
    "    # 步骤2: 计算交叉协方差矩阵\n",
    "    C = data2_centered.T @ data1_centered\n",
    "\n",
    "    # 步骤3: 奇异值分解\n",
    "    U, _, Vt = svd(C)\n",
    "\n",
    "    # 步骤4: 计算正交映射矩阵\n",
    "    W = U @ Vt\n",
    "\n",
    "    # 步骤5: 应用映射矩阵\n",
    "    data2_mapped = data2_centered @ W\n",
    "    \n",
    "    return data2_mapped\n",
    "\n",
    "# 使用函数\n",
    "# data2_mapped = orthogonal_mapping(data1, data2)\n"
   ]
  },
  {
   "cell_type": "code",
   "execution_count": 7,
   "metadata": {},
   "outputs": [
    {
     "name": "stdout",
     "output_type": "stream",
     "text": [
      "(50000, 512)\n",
      "(50000, 512)\n"
     ]
    }
   ],
   "source": [
    "print(X_train1.shape)\n",
    "print(X_train2.shape)\n",
    "data2_mapped = orthogonal_mapping(X_train1,X_train2)"
   ]
  },
  {
   "cell_type": "code",
   "execution_count": 8,
   "metadata": {},
   "outputs": [],
   "source": [
    "np.random.seed(23423)\n",
    "import sys\n",
    "sys.path.append('/home/yifan/projects/cophi/ContraVis')\n",
    "from eval.evaluate import *"
   ]
  },
  {
   "cell_type": "code",
   "execution_count": 9,
   "metadata": {},
   "outputs": [
    {
     "name": "stdout",
     "output_type": "stream",
     "text": [
      "use orthogonal_mapping get transformed data that nn_perserving rate is: 100.0%\n"
     ]
    }
   ],
   "source": [
    "val = evaluate_high_dimesion_trans_knn_preserving(X_train2,data2_mapped )\n",
    "print(\"use orthogonal_mapping get transformed data that nn_perserving rate is: {}%\".format(val*100) )"
   ]
  },
  {
   "cell_type": "code",
   "execution_count": null,
   "metadata": {},
   "outputs": [],
   "source": []
  }
 ],
 "metadata": {
  "kernelspec": {
   "display_name": "deepdebugger",
   "language": "python",
   "name": "deepdebugger"
  },
  "language_info": {
   "codemirror_mode": {
    "name": "ipython",
    "version": 3
   },
   "file_extension": ".py",
   "mimetype": "text/x-python",
   "name": "python",
   "nbconvert_exporter": "python",
   "pygments_lexer": "ipython3",
   "version": "3.7.15"
  },
  "orig_nbformat": 4
 },
 "nbformat": 4,
 "nbformat_minor": 2
}
