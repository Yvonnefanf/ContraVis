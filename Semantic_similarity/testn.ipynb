{
 "cells": [
  {
   "cell_type": "code",
   "execution_count": 1,
   "metadata": {},
   "outputs": [
    {
     "name": "stderr",
     "output_type": "stream",
     "text": [
      "/home/yifan/miniconda3/envs/deepdebugger/lib/python3.7/site-packages/tqdm/auto.py:22: TqdmWarning: IProgress not found. Please update jupyter and ipywidgets. See https://ipywidgets.readthedocs.io/en/stable/user_install.html\n",
      "  from .autonotebook import tqdm as notebook_tqdm\n",
      "2023-10-31 16:32:07.745296: I tensorflow/core/platform/cpu_feature_guard.cc:193] This TensorFlow binary is optimized with oneAPI Deep Neural Network Library (oneDNN) to use the following CPU instructions in performance-critical operations:  AVX2 FMA\n",
      "To enable them in other operations, rebuild TensorFlow with the appropriate compiler flags.\n",
      "2023-10-31 16:32:08.406167: W tensorflow/compiler/xla/stream_executor/platform/default/dso_loader.cc:64] Could not load dynamic library 'libnvinfer.so.7'; dlerror: libnvinfer.so.7: cannot open shared object file: No such file or directory\n",
      "2023-10-31 16:32:08.406217: W tensorflow/compiler/xla/stream_executor/platform/default/dso_loader.cc:64] Could not load dynamic library 'libnvinfer_plugin.so.7'; dlerror: libnvinfer_plugin.so.7: cannot open shared object file: No such file or directory\n",
      "2023-10-31 16:32:08.406221: W tensorflow/compiler/tf2tensorrt/utils/py_utils.cc:38] TF-TRT Warning: Cannot dlopen some TensorRT libraries. If you would like to use Nvidia GPU with TensorRT, please make sure the missing libraries mentioned above are installed properly.\n"
     ]
    },
    {
     "name": "stdout",
     "output_type": "stream",
     "text": [
      "Finish initialization...\n",
      "Finish initialization...\n"
     ]
    }
   ],
   "source": [
    "########################################################################################################################\n",
    "#                                                          IMPORT                                                      #\n",
    "########################################################################################################################\n",
    "import torch\n",
    "import sys\n",
    "import os\n",
    "import json\n",
    "import time\n",
    "import numpy as np\n",
    "import argparse\n",
    "sys.path.append(\"/home/yifan/projects/cophi/ContraVis\")\n",
    "\n",
    "from umap.umap_ import find_ab_params\n",
    "from contrast.transfomration import *\n",
    "\n",
    "from singleVis.SingleVisualizationModel import VisModel\n",
    "from singleVis.losses import UmapLoss, ReconstructionLoss, SingleVisLoss\n",
    "\n",
    "from singleVis.data import NormalDataProvider\n",
    "\n",
    "\n",
    "from singleVis.projector import DVIProjector,ContraProjector\n",
    "from singleVis.utils import find_neighbor_preserving_rate\n",
    "\n",
    "########################################################################################################################\n",
    "#                                                      PARAMETERS                                                   #\n",
    "########################################################################################################################\n",
    "\"\"\"This serve as an example of DeepVisualInsight implementation in pytorch.\"\"\"\n",
    "VIS_METHOD = \"DVI\" # DeepVisualInsight\n",
    "\n",
    "\n",
    "TAR_PATH = \"/home/yifan/experiments/backdoor/resnet18_CIFAR10/experiment10\"\n",
    "REF_PATH = \"/home/yifan/dataset/clean/pairflip/cifar10/0\"\n",
    "\n",
    "########################################################################################################################\n",
    "#                                                     LOAD PARAMETERS                                                  #\n",
    "########################################################################################################################\n",
    "\n",
    "\n",
    "CONTENT_PATH = REF_PATH\n",
    "sys.path.append(CONTENT_PATH)\n",
    "with open(os.path.join(CONTENT_PATH, \"config.json\"), \"r\") as f:\n",
    "    config = json.load(f)\n",
    "config = config[VIS_METHOD]\n",
    "\n",
    "# record output information\n",
    "# now = time.strftime(\"%Y-%m-%d-%H_%M_%S\", time.localtime(time.time())) \n",
    "# sys.stdout = open(os.path.join(CONTENT_PATH, now+\".txt\"), \"w\")\n",
    "\n",
    "SETTING = config[\"SETTING\"]\n",
    "CLASSES = config[\"CLASSES\"]\n",
    "DATASET = config[\"DATASET\"]\n",
    "PREPROCESS = config[\"VISUALIZATION\"][\"PREPROCESS\"]\n",
    "GPU_ID = config[\"GPU\"]\n",
    "GPU_ID = 1\n",
    "EPOCH_START = config[\"EPOCH_START\"]\n",
    "EPOCH_END = config[\"EPOCH_END\"]\n",
    "EPOCH_PERIOD = config[\"EPOCH_PERIOD\"]\n",
    "\n",
    "EPOCH_START = 200\n",
    "EPOCH_END = 200\n",
    "EPOCH_PERIOD = 1\n",
    "\n",
    "# Training parameter (subject model)\n",
    "TRAINING_PARAMETER = config[\"TRAINING\"]\n",
    "NET = TRAINING_PARAMETER[\"NET\"]\n",
    "LEN = TRAINING_PARAMETER[\"train_num\"]\n",
    "\n",
    "# Training parameter (visualization model)\n",
    "VISUALIZATION_PARAMETER = config[\"VISUALIZATION\"]\n",
    "LAMBDA1 = VISUALIZATION_PARAMETER[\"LAMBDA1\"]\n",
    "LAMBDA2 = VISUALIZATION_PARAMETER[\"LAMBDA2\"]\n",
    "B_N_EPOCHS = VISUALIZATION_PARAMETER[\"BOUNDARY\"][\"B_N_EPOCHS\"]\n",
    "L_BOUND = VISUALIZATION_PARAMETER[\"BOUNDARY\"][\"L_BOUND\"]\n",
    "ENCODER_DIMS = VISUALIZATION_PARAMETER[\"ENCODER_DIMS\"]\n",
    "DECODER_DIMS = VISUALIZATION_PARAMETER[\"DECODER_DIMS\"]\n",
    "\n",
    "\n",
    "S_N_EPOCHS = VISUALIZATION_PARAMETER[\"S_N_EPOCHS\"]\n",
    "N_NEIGHBORS = VISUALIZATION_PARAMETER[\"N_NEIGHBORS\"]\n",
    "PATIENT = VISUALIZATION_PARAMETER[\"PATIENT\"]\n",
    "MAX_EPOCH = VISUALIZATION_PARAMETER[\"MAX_EPOCH\"]\n",
    "\n",
    "VIS_MODEL_NAME = 'Contravis_backdoor' ### saved_as \n",
    "EVALUATION_NAME = VISUALIZATION_PARAMETER[\"EVALUATION_NAME\"]\n",
    "\n",
    "# Define hyperparameters\n",
    "DEVICE = torch.device(\"cuda:{}\".format(GPU_ID) if torch.cuda.is_available() else \"cpu\")\n",
    "\n",
    "import Model.model as subject_model\n",
    "net = eval(\"subject_model.{}()\".format(NET))\n",
    "\n",
    "########################################################################################################################\n",
    "#                                                    TRAINING SETTING                                                  #\n",
    "########################################################################################################################\n",
    "# Define data_provider\n",
    "#TODO\n",
    "TAE_NET = \"resnet18\"\n",
    "tar_net = eval(\"subject_model.{}()\".format(TAE_NET)) \n",
    "\n",
    "data_provider = NormalDataProvider(CONTENT_PATH, net, EPOCH_START, EPOCH_END, EPOCH_PERIOD, device=DEVICE, epoch_name='Epoch',classes=CLASSES,verbose=1)\n",
    "tar_data_provider = NormalDataProvider(TAR_PATH, tar_net, EPOCH_START, EPOCH_END, EPOCH_PERIOD, device=DEVICE, epoch_name='Epoch',classes=CLASSES,verbose=1)\n",
    "\n",
    "\n",
    "# Define visualization models\n",
    "model = VisModel(ENCODER_DIMS, DECODER_DIMS)\n",
    "\n",
    "\n",
    "# Define Losses\n",
    "negative_sample_rate = 5\n",
    "min_dist = .1\n",
    "_a, _b = find_ab_params(1.0, min_dist)\n",
    "umap_loss_fn = UmapLoss(negative_sample_rate, DEVICE, _a, _b, repulsion_strength=1.0)\n",
    "recon_loss_fn = ReconstructionLoss(beta=1.0)\n",
    "single_loss_fn = SingleVisLoss(umap_loss_fn, recon_loss_fn, lambd=LAMBDA1)\n",
    "# Define Projector\n",
    "projector = ContraProjector(vis_model=model, content_path=os.path.join(REF_PATH, 'Model', 'Epoch_{}//Contravis.pth'.format(EPOCH_START)), vis_model_name=VIS_MODEL_NAME, device=DEVICE)\n",
    "\n"
   ]
  },
  {
   "cell_type": "code",
   "execution_count": null,
   "metadata": {},
   "outputs": [],
   "source": [
    "from semantic_distance_calculator import SemanticDistanceCalculator\n",
    "\n",
    "ss = SemanticDistanceCalculator(data_provider,tar_data_provider,200,200,15)"
   ]
  },
  {
   "cell_type": "code",
   "execution_count": null,
   "metadata": {},
   "outputs": [],
   "source": [
    "from concurrent.futures import ThreadPoolExecutor\n",
    "import numpy as np\n",
    "import functools\n",
    "\n",
    "@functools.lru_cache(maxsize=None)\n",
    "def cached_similarity(r_index, t_index):\n",
    "    return ss.tar_ref_train_data_semantic_similairty_(r_index, t_index)\n",
    "\n",
    "def find_most_similar_ref_for_each_tar_parallel(num=50):\n",
    "    max_similarity_indices = np.zeros(num, dtype=int)\n",
    "    max_similarity_scores = np.zeros(num)\n",
    "    \n",
    "    def process_index(t_index):\n",
    "        highest_similarity = -np.inf\n",
    "        highest_similarity_r_index = -1\n",
    "        for r_index in range(num):\n",
    "            similarity, _, _ = cached_similarity(r_index, t_index)\n",
    "            if similarity > highest_similarity:\n",
    "                highest_similarity = similarity\n",
    "                highest_similarity_r_index = r_index\n",
    "        return t_index, highest_similarity_r_index, highest_similarity\n",
    "\n",
    "    with ThreadPoolExecutor() as executor:\n",
    "        results = list(executor.map(process_index, range(num)))\n",
    "\n",
    "    for t_index, r_index, score in results:\n",
    "        max_similarity_indices[t_index] = r_index\n",
    "        max_similarity_scores[t_index] = score\n",
    "\n",
    "    return max_similarity_indices, max_similarity_scores\n"
   ]
  },
  {
   "cell_type": "code",
   "execution_count": null,
   "metadata": {},
   "outputs": [],
   "source": [
    "max_similarity_indices, max_similarity_scores = find_most_similar_ref_for_each_tar_parallel(num=1000)"
   ]
  },
  {
   "cell_type": "code",
   "execution_count": null,
   "metadata": {},
   "outputs": [],
   "source": [
    "a, b = find_most_similar_ref_for_each_tar_parallel(500)"
   ]
  },
  {
   "cell_type": "code",
   "execution_count": null,
   "metadata": {},
   "outputs": [],
   "source": [
    "import numpy as np\n",
    "\n",
    "def find_most_similar_ref_for_each_tar(num=50):\n",
    "    max_similarity_indices = np.zeros(num, dtype=int)  # save the most similar indices\n",
    "    max_similarity_scores = np.zeros(num)  # save the highest score\n",
    "\n",
    "    for t_index in range(num):\n",
    "        highest_similarity = -np.inf  # 初始化为负无穷大\n",
    "        highest_similarity_r_index = -1  # 初始化索引\n",
    "\n",
    "        for r_index in range(num):\n",
    "            # calculate the score\n",
    "            similarity, _, _ = ss.tar_ref_train_data_semantic_similairty_(r_index, t_index)\n",
    "\n",
    "            # 检查是否为最高分数\n",
    "            if similarity > highest_similarity:\n",
    "                highest_similarity = similarity\n",
    "                highest_similarity_r_index = r_index\n",
    "\n",
    "        max_similarity_indices[t_index] = highest_similarity_r_index\n",
    "        max_similarity_scores[t_index] = highest_similarity\n",
    "\n",
    "        # 可以在这里打印进度\n",
    "        if t_index % 1000 == 0:\n",
    "            print(f\"Processed {t_index} target points...\")"
   ]
  },
  {
   "cell_type": "code",
   "execution_count": null,
   "metadata": {},
   "outputs": [],
   "source": [
    "ss.tar_ref_train_data_semantic_similairty_(1,2)"
   ]
  },
  {
   "cell_type": "code",
   "execution_count": null,
   "metadata": {},
   "outputs": [],
   "source": [
    "pred1 = data_provider.get_pred(200, data_provider.train_representation(200))\n",
    "print(pred1[0])"
   ]
  },
  {
   "cell_type": "code",
   "execution_count": null,
   "metadata": {},
   "outputs": [],
   "source": [
    "train_data = tar_data_provider.train_representation(200)\n",
    "train_data = train_data.reshape(len(train_data), -1)\n",
    "pred2 = tar_data_provider.get_pred(200, train_data)\n",
    "print(pred2[0])"
   ]
  },
  {
   "cell_type": "code",
   "execution_count": null,
   "metadata": {},
   "outputs": [],
   "source": [
    "\n",
    "def softmax(x):\n",
    "    e_x = np.exp(x - np.max(x))  # cal_culate\n",
    "    return e_x / e_x.sum(axis=0)"
   ]
  },
  {
   "cell_type": "code",
   "execution_count": null,
   "metadata": {},
   "outputs": [],
   "source": [
    "def cosine_similarity(u, v):\n",
    "    return np.dot(u, v) / (np.linalg.norm(u) * np.linalg.norm(v))"
   ]
  },
  {
   "cell_type": "code",
   "execution_count": null,
   "metadata": {},
   "outputs": [],
   "source": [
    "# softmax_vec1 = softmax(pred1[10])\n",
    "# softmax_vec2 = softmax(pred2[10])\n",
    "softmax_vec1 = pred1[0]\n",
    "softmax_vec2 = pred2[0]\n",
    "cos_sim = cosine_similarity(softmax_vec1, softmax_vec2)\n",
    "print(\"Cosine Similarity: \", cos_sim)"
   ]
  },
  {
   "cell_type": "code",
   "execution_count": null,
   "metadata": {},
   "outputs": [],
   "source": []
  }
 ],
 "metadata": {
  "kernelspec": {
   "display_name": "deepdebugger",
   "language": "python",
   "name": "deepdebugger"
  },
  "language_info": {
   "codemirror_mode": {
    "name": "ipython",
    "version": 3
   },
   "file_extension": ".py",
   "mimetype": "text/x-python",
   "name": "python",
   "nbconvert_exporter": "python",
   "pygments_lexer": "ipython3",
   "version": "3.7.15"
  },
  "orig_nbformat": 4
 },
 "nbformat": 4,
 "nbformat_minor": 2
}
